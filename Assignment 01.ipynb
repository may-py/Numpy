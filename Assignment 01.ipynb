{
 "cells": [
  {
   "cell_type": "markdown",
   "metadata": {},
   "source": [
    "\n",
    "# Assignment 01: Evaluate the GDP Dataset\n",
    "\n",
    "*The comments/sections provided are your cues to perform the assignment. You don't need to limit yourself to the number of rows/cells provided. You can add additional rows in each section to add more lines of code.*\n",
    "\n",
    "*If at any point in time you need help on solving this assignment, view our demo video to understand the different steps of the code.*\n",
    "\n",
    "**Happy coding!**"
   ]
  },
  {
   "cell_type": "markdown",
   "metadata": {},
   "source": [
    "#### 1: View and add the dataset"
   ]
  },
  {
   "cell_type": "code",
   "execution_count": 1,
   "metadata": {},
   "outputs": [],
   "source": [
    "#Import required library\n",
    "import numpy as np\n",
    "import pandas as pd\n",
    "from io import StringIO"
   ]
  },
  {
   "cell_type": "code",
   "execution_count": 72,
   "metadata": {
    "scrolled": true
   },
   "outputs": [
    {
     "data": {
      "text/html": [
       "<div>\n",
       "<style scoped>\n",
       "    .dataframe tbody tr th:only-of-type {\n",
       "        vertical-align: middle;\n",
       "    }\n",
       "\n",
       "    .dataframe tbody tr th {\n",
       "        vertical-align: top;\n",
       "    }\n",
       "\n",
       "    .dataframe thead th {\n",
       "        text-align: right;\n",
       "    }\n",
       "</style>\n",
       "<table border=\"1\" class=\"dataframe\">\n",
       "  <thead>\n",
       "    <tr style=\"text-align: right;\">\n",
       "      <th></th>\n",
       "      <th>0</th>\n",
       "      <th>1</th>\n",
       "      <th>2</th>\n",
       "      <th>3</th>\n",
       "      <th>4</th>\n",
       "      <th>5</th>\n",
       "      <th>6</th>\n",
       "      <th>7</th>\n",
       "      <th>8</th>\n",
       "      <th>9</th>\n",
       "      <th>...</th>\n",
       "      <th>53</th>\n",
       "      <th>54</th>\n",
       "      <th>55</th>\n",
       "      <th>56</th>\n",
       "      <th>57</th>\n",
       "      <th>58</th>\n",
       "      <th>59</th>\n",
       "      <th>60</th>\n",
       "      <th>61</th>\n",
       "      <th>62</th>\n",
       "    </tr>\n",
       "  </thead>\n",
       "  <tbody>\n",
       "    <tr>\n",
       "      <th>0</th>\n",
       "      <td>'Algeria'</td>\n",
       "      <td>'Angola'</td>\n",
       "      <td>'Argentina'</td>\n",
       "      <td>'Australia'</td>\n",
       "      <td>'Austria'</td>\n",
       "      <td>'Bahamas'</td>\n",
       "      <td>'Bangladesh'</td>\n",
       "      <td>'Belarus'</td>\n",
       "      <td>'Belgium'</td>\n",
       "      <td>'Bhutan'</td>\n",
       "      <td>...</td>\n",
       "      <td>'Sweden'</td>\n",
       "      <td>'Switzerland'</td>\n",
       "      <td>'Thailand'</td>\n",
       "      <td>'United Arab Emirates'</td>\n",
       "      <td>'United Kingdom'</td>\n",
       "      <td>'United States'</td>\n",
       "      <td>'Uruguay'</td>\n",
       "      <td>'Venezuela'</td>\n",
       "      <td>'Vietnam'</td>\n",
       "      <td>'Zimbabwe'</td>\n",
       "    </tr>\n",
       "    <tr>\n",
       "      <th>1</th>\n",
       "      <td>2255.225482</td>\n",
       "      <td>629.9553062</td>\n",
       "      <td>11601.63022</td>\n",
       "      <td>25306.82494</td>\n",
       "      <td>27266.40335</td>\n",
       "      <td>19466.99052</td>\n",
       "      <td>588.3691778</td>\n",
       "      <td>2890.345675</td>\n",
       "      <td>24733.62696</td>\n",
       "      <td>1445.760002</td>\n",
       "      <td>...</td>\n",
       "      <td>33630.24604</td>\n",
       "      <td>39170.41371</td>\n",
       "      <td>2699.123242</td>\n",
       "      <td>21058.43643</td>\n",
       "      <td>28272.40661</td>\n",
       "      <td>37691.02733</td>\n",
       "      <td>9581.05659</td>\n",
       "      <td>5671.912202</td>\n",
       "      <td>757.4009286</td>\n",
       "      <td>347.7456605</td>\n",
       "    </tr>\n",
       "  </tbody>\n",
       "</table>\n",
       "<p>2 rows × 63 columns</p>\n",
       "</div>"
      ],
      "text/plain": [
       "             0            1            2            3            4   \\\n",
       "0     'Algeria'     'Angola'  'Argentina'  'Australia'    'Austria'   \n",
       "1   2255.225482  629.9553062  11601.63022  25306.82494  27266.40335   \n",
       "\n",
       "            5             6            7            8            9   ...  \\\n",
       "0    'Bahamas'  'Bangladesh'    'Belarus'    'Belgium'     'Bhutan'  ...   \n",
       "1  19466.99052   588.3691778  2890.345675  24733.62696  1445.760002  ...   \n",
       "\n",
       "            53             54           55                       56  \\\n",
       "0     'Sweden'  'Switzerland'   'Thailand'   'United Arab Emirates'   \n",
       "1  33630.24604    39170.41371  2699.123242              21058.43643   \n",
       "\n",
       "                 57               58          59           60           61  \\\n",
       "0  'United Kingdom'  'United States'   'Uruguay'  'Venezuela'    'Vietnam'   \n",
       "1       28272.40661      37691.02733  9581.05659  5671.912202  757.4009286   \n",
       "\n",
       "            62  \n",
       "0   'Zimbabwe'  \n",
       "1  347.7456605  \n",
       "\n",
       "[2 rows x 63 columns]"
      ]
     },
     "execution_count": 72,
     "metadata": {},
     "output_type": "execute_result"
    }
   ],
   "source": [
    "#Manually add the dataset\n",
    "columns = list(np.arange(1,63))\n",
    "#data = pd.read_csv('Countries with GDP.txt')\n",
    "data = pd.read_csv('Countries with GDP.txt',header=None)\n",
    "data[['Index',0]] = data[0].str.split(':',expand=True)\n",
    "data = data\n",
    "data = data.drop('Index',axis=1)\n",
    "data"
   ]
  },
  {
   "cell_type": "code",
   "execution_count": 74,
   "metadata": {},
   "outputs": [
    {
     "data": {
      "text/plain": [
       "(array([\" 'Algeria'\", \"'Angola'\", \"'Argentina'\", \"'Australia'\",\n",
       "        \"'Austria'\", \"'Bahamas'\", \"'Bangladesh'\", \"'Belarus'\", \"'Belgium'\",\n",
       "        \"'Bhutan'\", \"'Brazil'\", \"'Bulgaria'\", \"'Cambodia'\", \"'Cameroon'\",\n",
       "        \"'Chile'\", \"'China'\", \"'Colombia'\", \"'Cyprus'\", \"'Denmark'\",\n",
       "        \"'El Salvador'\", \"'Estonia'\", \"'Ethiopia'\", \"'Fiji'\", \"'Finland'\",\n",
       "        \"'France'\", \"'Georgia'\", \"'Ghana'\", \"'Grenada'\", \"'Guinea'\",\n",
       "        \"'Haiti'\", \"'Honduras'\", \"'Hungary'\", \"'India'\", \"'Indonesia'\",\n",
       "        \"'Ireland'\", \"'Italy'\", \"'Japan'\", \"'Kenya'\", \" 'South Korea'\",\n",
       "        \"'Liberia'\", \"'Malaysia'\", \"'Mexico'\", \" 'Morocco'\", \"'Nepal'\",\n",
       "        \"'New Zealand'\", \"'Norway'\", \"'Pakistan'\", \" 'Peru'\", \"'Qatar'\",\n",
       "        \"'Russia'\", \"'Singapore'\", \"'South Africa'\", \"'Spain'\", \"'Sweden'\",\n",
       "        \"'Switzerland'\", \"'Thailand'\", \" 'United Arab Emirates'\",\n",
       "        \"'United Kingdom'\", \"'United States'\", \"'Uruguay'\", \"'Venezuela'\",\n",
       "        \"'Vietnam'\", \"'Zimbabwe'\"], dtype=object),\n",
       " array([ 2255.225482 ,   629.9553062, 11601.63022  , 25306.82494  ,\n",
       "        27266.40335  , 19466.99052  ,   588.3691778,  2890.345675 ,\n",
       "        24733.62696  ,  1445.760002 ,  4803.398244 ,  2618.876037 ,\n",
       "          590.4521124,   665.7982328,  7122.938458 ,  2639.54156  ,\n",
       "         3362.4656   , 15378.16704  , 30860.12808  ,  2579.115607 ,\n",
       "         6525.541272 ,   229.6769525,  2242.689259 , 27570.4852   ,\n",
       "        23016.84778  ,  1334.646773 ,   402.6953275,  6047.200797 ,\n",
       "          394.1156638,   385.5793827,  1414.072488 ,  5745.981529 ,\n",
       "          837.7464011,  1206.991065 , 27715.52837  , 18937.24998  ,\n",
       "        39578.07441  ,   478.2194906, 16684.21278  ,   279.2204061,\n",
       "         5345.213415 ,  6288.25324  ,  1908.304416 ,   274.8728621,\n",
       "        14646.42094  , 40034.85063  ,   672.1547506,  3359.517402 ,\n",
       "        36152.66676  ,  3054.727742 , 33529.83052  ,  3825.093781 ,\n",
       "        15428.32098  , 33630.24604  , 39170.41371  ,  2699.123242 ,\n",
       "        21058.43643  , 28272.40661  , 37691.02733  ,  9581.05659  ,\n",
       "         5671.912202 ,   757.4009286,   347.7456605]),\n",
       " 40034.85063)"
      ]
     },
     "execution_count": 74,
     "metadata": {},
     "output_type": "execute_result"
    }
   ],
   "source": [
    "countries = np.array(data.values[0])\n",
    "GDPs = np.array(data.values[1]).astype(float)\n",
    "countries, GDPs, GDPs.max()"
   ]
  },
  {
   "cell_type": "markdown",
   "metadata": {
    "collapsed": true
   },
   "source": [
    "#### 2: Find and print the name of the country with the highest GDP"
   ]
  },
  {
   "cell_type": "code",
   "execution_count": 75,
   "metadata": {},
   "outputs": [
    {
     "data": {
      "text/plain": [
       "45"
      ]
     },
     "execution_count": 75,
     "metadata": {},
     "output_type": "execute_result"
    }
   ],
   "source": [
    "#Use the argmax() method to find the highest GDP\n",
    "max_gdp_per_capita = GDPs.argmax()\n",
    "max_gdp_per_capita"
   ]
  },
  {
   "cell_type": "code",
   "execution_count": 76,
   "metadata": {},
   "outputs": [
    {
     "data": {
      "text/plain": [
       "\"'Norway'\""
      ]
     },
     "execution_count": 76,
     "metadata": {},
     "output_type": "execute_result"
    }
   ],
   "source": [
    "#Print the name of the country\n",
    "countries[max_gdp_per_capita]"
   ]
  },
  {
   "cell_type": "markdown",
   "metadata": {},
   "source": [
    "#### 3: Find and print the name of the country with the lowest GDP"
   ]
  },
  {
   "cell_type": "code",
   "execution_count": 77,
   "metadata": {},
   "outputs": [
    {
     "data": {
      "text/plain": [
       "21"
      ]
     },
     "execution_count": 77,
     "metadata": {},
     "output_type": "execute_result"
    }
   ],
   "source": [
    "#Use the argmin() method to find the lowest GDP\n",
    "min_gdp_per_capita = GDPs.argmin()\n",
    "min_gdp_per_capita"
   ]
  },
  {
   "cell_type": "code",
   "execution_count": 78,
   "metadata": {},
   "outputs": [
    {
     "data": {
      "text/plain": [
       "\"'Ethiopia'\""
      ]
     },
     "execution_count": 78,
     "metadata": {},
     "output_type": "execute_result"
    }
   ],
   "source": [
    "#Print the name of the country\n",
    "countries[min_gdp_per_capita]"
   ]
  },
  {
   "cell_type": "markdown",
   "metadata": {},
   "source": [
    "#### 4: Print out text ('evaluating country') and input value ('country name') iteratively"
   ]
  },
  {
   "cell_type": "code",
   "execution_count": 79,
   "metadata": {},
   "outputs": [
    {
     "name": "stdout",
     "output_type": "stream",
     "text": [
      "eculating country  'Algeria'\n",
      "eculating country 'Angola'\n",
      "eculating country 'Argentina'\n",
      "eculating country 'Australia'\n",
      "eculating country 'Austria'\n",
      "eculating country 'Bahamas'\n",
      "eculating country 'Bangladesh'\n",
      "eculating country 'Belarus'\n",
      "eculating country 'Belgium'\n",
      "eculating country 'Bhutan'\n",
      "eculating country 'Brazil'\n",
      "eculating country 'Bulgaria'\n",
      "eculating country 'Cambodia'\n",
      "eculating country 'Cameroon'\n",
      "eculating country 'Chile'\n",
      "eculating country 'China'\n",
      "eculating country 'Colombia'\n",
      "eculating country 'Cyprus'\n",
      "eculating country 'Denmark'\n",
      "eculating country 'El Salvador'\n",
      "eculating country 'Estonia'\n",
      "eculating country 'Ethiopia'\n",
      "eculating country 'Fiji'\n",
      "eculating country 'Finland'\n",
      "eculating country 'France'\n",
      "eculating country 'Georgia'\n",
      "eculating country 'Ghana'\n",
      "eculating country 'Grenada'\n",
      "eculating country 'Guinea'\n",
      "eculating country 'Haiti'\n",
      "eculating country 'Honduras'\n",
      "eculating country 'Hungary'\n",
      "eculating country 'India'\n",
      "eculating country 'Indonesia'\n",
      "eculating country 'Ireland'\n",
      "eculating country 'Italy'\n",
      "eculating country 'Japan'\n",
      "eculating country 'Kenya'\n",
      "eculating country  'South Korea'\n",
      "eculating country 'Liberia'\n",
      "eculating country 'Malaysia'\n",
      "eculating country 'Mexico'\n",
      "eculating country  'Morocco'\n",
      "eculating country 'Nepal'\n",
      "eculating country 'New Zealand'\n",
      "eculating country 'Norway'\n",
      "eculating country 'Pakistan'\n",
      "eculating country  'Peru'\n",
      "eculating country 'Qatar'\n",
      "eculating country 'Russia'\n",
      "eculating country 'Singapore'\n",
      "eculating country 'South Africa'\n",
      "eculating country 'Spain'\n",
      "eculating country 'Sweden'\n",
      "eculating country 'Switzerland'\n",
      "eculating country 'Thailand'\n",
      "eculating country  'United Arab Emirates'\n",
      "eculating country 'United Kingdom'\n",
      "eculating country 'United States'\n",
      "eculating country 'Uruguay'\n",
      "eculating country 'Venezuela'\n",
      "eculating country 'Vietnam'\n",
      "eculating country 'Zimbabwe'\n"
     ]
    }
   ],
   "source": [
    "#Use a for loop to print the required output\n",
    "for country in countries:\n",
    "    print('eculating country {}'.format(country))"
   ]
  },
  {
   "cell_type": "markdown",
   "metadata": {},
   "source": [
    "#### 5: Print out the entire list of the countries with their GDPs"
   ]
  },
  {
   "cell_type": "code",
   "execution_count": 80,
   "metadata": {},
   "outputs": [
    {
     "name": "stdout",
     "output_type": "stream",
     "text": [
      "country  'Algeria' per capita gdp is 2255.225482 \n",
      "country 'Angola' per capita gdp is 629.9553062 \n",
      "country 'Argentina' per capita gdp is 11601.63022 \n",
      "country 'Australia' per capita gdp is 25306.82494 \n",
      "country 'Austria' per capita gdp is 27266.40335 \n",
      "country 'Bahamas' per capita gdp is 19466.99052 \n",
      "country 'Bangladesh' per capita gdp is 588.3691778 \n",
      "country 'Belarus' per capita gdp is 2890.345675 \n",
      "country 'Belgium' per capita gdp is 24733.62696 \n",
      "country 'Bhutan' per capita gdp is 1445.760002 \n",
      "country 'Brazil' per capita gdp is 4803.398244 \n",
      "country 'Bulgaria' per capita gdp is 2618.876037 \n",
      "country 'Cambodia' per capita gdp is 590.4521124 \n",
      "country 'Cameroon' per capita gdp is 665.7982328 \n",
      "country 'Chile' per capita gdp is 7122.938458 \n",
      "country 'China' per capita gdp is 2639.54156 \n",
      "country 'Colombia' per capita gdp is 3362.4656 \n",
      "country 'Cyprus' per capita gdp is 15378.16704 \n",
      "country 'Denmark' per capita gdp is 30860.12808 \n",
      "country 'El Salvador' per capita gdp is 2579.115607 \n",
      "country 'Estonia' per capita gdp is 6525.541272 \n",
      "country 'Ethiopia' per capita gdp is 229.6769525 \n",
      "country 'Fiji' per capita gdp is 2242.689259 \n",
      "country 'Finland' per capita gdp is 27570.4852 \n",
      "country 'France' per capita gdp is 23016.84778 \n",
      "country 'Georgia' per capita gdp is 1334.646773 \n",
      "country 'Ghana' per capita gdp is 402.6953275 \n",
      "country 'Grenada' per capita gdp is 6047.200797 \n",
      "country 'Guinea' per capita gdp is 394.1156638 \n",
      "country 'Haiti' per capita gdp is 385.5793827 \n",
      "country 'Honduras' per capita gdp is 1414.072488 \n",
      "country 'Hungary' per capita gdp is 5745.981529 \n",
      "country 'India' per capita gdp is 837.7464011 \n",
      "country 'Indonesia' per capita gdp is 1206.991065 \n",
      "country 'Ireland' per capita gdp is 27715.52837 \n",
      "country 'Italy' per capita gdp is 18937.24998 \n",
      "country 'Japan' per capita gdp is 39578.07441 \n",
      "country 'Kenya' per capita gdp is 478.2194906 \n",
      "country  'South Korea' per capita gdp is 16684.21278 \n",
      "country 'Liberia' per capita gdp is 279.2204061 \n",
      "country 'Malaysia' per capita gdp is 5345.213415 \n",
      "country 'Mexico' per capita gdp is 6288.25324 \n",
      "country  'Morocco' per capita gdp is 1908.304416 \n",
      "country 'Nepal' per capita gdp is 274.8728621 \n",
      "country 'New Zealand' per capita gdp is 14646.42094 \n",
      "country 'Norway' per capita gdp is 40034.85063 \n",
      "country 'Pakistan' per capita gdp is 672.1547506 \n",
      "country  'Peru' per capita gdp is 3359.517402 \n",
      "country 'Qatar' per capita gdp is 36152.66676 \n",
      "country 'Russia' per capita gdp is 3054.727742 \n",
      "country 'Singapore' per capita gdp is 33529.83052 \n",
      "country 'South Africa' per capita gdp is 3825.093781 \n",
      "country 'Spain' per capita gdp is 15428.32098 \n",
      "country 'Sweden' per capita gdp is 33630.24604 \n",
      "country 'Switzerland' per capita gdp is 39170.41371 \n",
      "country 'Thailand' per capita gdp is 2699.123242 \n",
      "country  'United Arab Emirates' per capita gdp is 21058.43643 \n",
      "country 'United Kingdom' per capita gdp is 28272.40661 \n",
      "country 'United States' per capita gdp is 37691.02733 \n",
      "country 'Uruguay' per capita gdp is 9581.05659 \n",
      "country 'Venezuela' per capita gdp is 5671.912202 \n",
      "country 'Vietnam' per capita gdp is 757.4009286 \n",
      "country 'Zimbabwe' per capita gdp is 347.7456605 \n"
     ]
    }
   ],
   "source": [
    "#Use a for loop to print the required list\n",
    "for i in range(len(countries)):\n",
    "    country = countries[i]\n",
    "    country_gdp_per_capita = GDPs[i]\n",
    "    print('country {} per capita gdp is {} '.format(country,country_gdp_per_capita))"
   ]
  },
  {
   "cell_type": "markdown",
   "metadata": {},
   "source": [
    "#### 6: Print the following:\n",
    "1. Highest GPD value\n",
    "2. Lowest GDP value\n",
    "3. Mean GDP value\n",
    "4. Standardized GDP value\n",
    "5. Sum of all the GDPs"
   ]
  },
  {
   "cell_type": "code",
   "execution_count": 81,
   "metadata": {},
   "outputs": [
    {
     "data": {
      "text/plain": [
       "'1. Highest GDP value 40034.85063'"
      ]
     },
     "execution_count": 81,
     "metadata": {},
     "output_type": "execute_result"
    }
   ],
   "source": [
    "f\"1. Highest GDP value {GDPs.max()}\""
   ]
  },
  {
   "cell_type": "code",
   "execution_count": 82,
   "metadata": {},
   "outputs": [
    {
     "data": {
      "text/plain": [
       "'2. Lowest GDP value 229.6769525'"
      ]
     },
     "execution_count": 82,
     "metadata": {},
     "output_type": "execute_result"
    }
   ],
   "source": [
    "f\"2. Lowest GDP value {GDPs.min()}\""
   ]
  },
  {
   "cell_type": "code",
   "execution_count": 83,
   "metadata": {},
   "outputs": [
    {
     "data": {
      "text/plain": [
       "'3. Mean GDP value 11289.409271639683'"
      ]
     },
     "execution_count": 83,
     "metadata": {},
     "output_type": "execute_result"
    }
   ],
   "source": [
    "f\"3. Mean GDP value {GDPs.mean()}\""
   ]
  },
  {
   "cell_type": "code",
   "execution_count": 84,
   "metadata": {},
   "outputs": [
    {
     "data": {
      "text/plain": [
       "'4. Standardized GDP value 12743.828910617945'"
      ]
     },
     "execution_count": 84,
     "metadata": {},
     "output_type": "execute_result"
    }
   ],
   "source": [
    "f\"4. Standardized GDP value {GDPs.std()}\""
   ]
  },
  {
   "cell_type": "code",
   "execution_count": 85,
   "metadata": {},
   "outputs": [
    {
     "data": {
      "text/plain": [
       "'5. Sum of all the GDPs 711232.7841133'"
      ]
     },
     "execution_count": 85,
     "metadata": {},
     "output_type": "execute_result"
    }
   ],
   "source": [
    "f\"5. Sum of all the GDPs {GDPs.sum()}\""
   ]
  }
 ],
 "metadata": {
  "kernelspec": {
   "display_name": "Python 3",
   "language": "python",
   "name": "python3"
  },
  "language_info": {
   "codemirror_mode": {
    "name": "ipython",
    "version": 3
   },
   "file_extension": ".py",
   "mimetype": "text/x-python",
   "name": "python",
   "nbconvert_exporter": "python",
   "pygments_lexer": "ipython3",
   "version": "3.8.6"
  }
 },
 "nbformat": 4,
 "nbformat_minor": 1
}
